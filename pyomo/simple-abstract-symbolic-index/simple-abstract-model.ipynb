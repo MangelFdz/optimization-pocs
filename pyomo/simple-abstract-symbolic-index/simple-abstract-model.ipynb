{
 "cells": [
  {
   "attachments": {},
   "cell_type": "markdown",
   "metadata": {},
   "source": [
    "# Simple Abstract Pyomo Model\n",
    "\n",
    "$$ \n",
    "min \\space \\sum_{j=1}^{n} c_j x_j \\\\\n",
    "\n",
    "s.t. \\space \\sum_{j=1}^{n} a_{ij} x_j \\geq b_i, \\forall i=1\\dots m \\\\\n",
    "x_j \\geq 0, \\forall j=1\\dots m\n",
    "\n",
    "$$"
   ]
  },
  {
   "cell_type": "code",
   "execution_count": 1,
   "metadata": {},
   "outputs": [],
   "source": [
    "from __future__ import division\n",
    "import pyomo.environ as pyo\n",
    "\n",
    "model = pyo.AbstractModel()\n",
    "\n",
    "model.I = pyo.Set()\n",
    "model.J = pyo.Set()\n",
    "\n",
    "# the next lines declare variables indexed by some sets\n",
    "model.a = pyo.Param(model.I, model.J)\n",
    "model.b = pyo.Param(model.I)\n",
    "model.c = pyo.Param(model.J)\n",
    "\n",
    "# the next line declares a variable indexed by the set J\n",
    "model.x = pyo.Var(model.J, domain=pyo.NonNegativeReals)\n",
    "\n",
    "def obj_expression(m):\n",
    "    return pyo.summation(m.c, m.x)\n",
    "\n",
    "model.OBJ = pyo.Objective(rule=obj_expression)\n",
    "\n",
    "def ax_constraint_rule(m, i):\n",
    "    # return the expression for the constraint for i\n",
    "    return sum(m.a[i,j] * m.x[j] for j in m.J) >= m.b[i]\n",
    "\n",
    "# the next line creates one constraint for each member of the set model.I\n",
    "model.AxbConstraint = pyo.Constraint(model.I, rule=ax_constraint_rule)"
   ]
  }
 ],
 "metadata": {
  "kernelspec": {
   "display_name": "optimization-pocs",
   "language": "python",
   "name": "python3"
  },
  "language_info": {
   "codemirror_mode": {
    "name": "ipython",
    "version": 3
   },
   "file_extension": ".py",
   "mimetype": "text/x-python",
   "name": "python",
   "nbconvert_exporter": "python",
   "pygments_lexer": "ipython3",
   "version": "3.10.8 | packaged by conda-forge | (main, Nov 24 2022, 14:07:00) [MSC v.1916 64 bit (AMD64)]"
  },
  "orig_nbformat": 4,
  "vscode": {
   "interpreter": {
    "hash": "2eaa0aea021d2a4d6a59509141f56b851005e08d0120f0c43dc007f56404aad4"
   }
  }
 },
 "nbformat": 4,
 "nbformat_minor": 2
}
