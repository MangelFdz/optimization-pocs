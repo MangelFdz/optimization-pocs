{
 "cells": [
  {
   "attachments": {},
   "cell_type": "markdown",
   "metadata": {},
   "source": [
    "# Simple Concrete Pyomo Model\n",
    "\n",
    "$$ \n",
    "min \\space 2 x_1 + 3 x_2 \\\\\n",
    "\n",
    "s.t. \\space 3 x_1 + 4 x_2 \\geq 1 \\\\\n",
    "x_1, x_2 \\geq 0\n",
    "\n",
    "$$"
   ]
  },
  {
   "cell_type": "code",
   "execution_count": 1,
   "metadata": {},
   "outputs": [],
   "source": [
    "import pyomo.environ as pyo\n",
    "\n",
    "model = pyo.ConcreteModel()\n",
    "\n",
    "model.x = pyo.Var([1, 2], domain=pyo.NonNegativeReals)\n",
    "\n",
    "model.OBJ = pyo.Objective(expr = 2*model.x[1] + 3*model.x[2])\n",
    "\n",
    "model.Constraint1 = pyo.Constraint(expr = 3*model.x[1] + 4*model.x[2] >= 1)"
   ]
  }
 ],
 "metadata": {
  "kernelspec": {
   "display_name": "optimization-pocs",
   "language": "python",
   "name": "python3"
  },
  "language_info": {
   "codemirror_mode": {
    "name": "ipython",
    "version": 3
   },
   "file_extension": ".py",
   "mimetype": "text/x-python",
   "name": "python",
   "nbconvert_exporter": "python",
   "pygments_lexer": "ipython3",
   "version": "3.10.8"
  },
  "orig_nbformat": 4,
  "vscode": {
   "interpreter": {
    "hash": "2eaa0aea021d2a4d6a59509141f56b851005e08d0120f0c43dc007f56404aad4"
   }
  }
 },
 "nbformat": 4,
 "nbformat_minor": 2
}
